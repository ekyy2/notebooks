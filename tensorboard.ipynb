{
 "cells": [
  {
   "cell_type": "markdown",
   "metadata": {},
   "source": [
    "# Setting Tensorboard in Anaconda\n",
    "\n",
    "1) Create a separate environment for tensorflow and activate it:\n",
    "\n",
    "conda create -n tensorflow_env tensorflow\n",
    "\n",
    "conda activate tensorflow_env\n",
    "\n",
    "Tensorboard should be installed along with tensorboard, but you may need to update both to get them working (tensorflow: 1.10.0-py36_0 and tensorboard: 1.10.0-py36_0 worked for me). Otherwise, the following error was encountered:\n",
    "\n",
    "TypeError: __init__() got an unexpected keyword argument 'serialized_options'\n",
    "\n",
    "2) Run the mnist_with_summaries.py with the log directory specified:\n",
    "python \"C:\\Users\\Edward Yapp\\Anaconda3\\envs\\tensorflow_env\\Lib\\site-packages\\tensorflow\\examples\\tutorials\\mnist\\mnist_with_summaries.py\" --log_dir \"C:\\Users\\Edward Yapp\\Desktop\\logdir\"\n",
    "\n",
    "3) Run tensorboard based on the directory specified in the previous step:\n",
    "tensorboard --logdir=\"C:\\Users\\Edward Yapp\\Desktop\\logdir\"\n",
    "\n",
    "4) Copy and paste the link to your browser to visualise the output!\n",
    "\n",
    "References:\n",
    "\n",
    "https://www.tensorflow.org/guide/summaries_and_tensorboard\n",
    "\n",
    "https://www.anaconda.com/blog/developer-blog/tensorflow-in-anaconda/"
   ]
  }
 ],
 "metadata": {
  "kernelspec": {
   "display_name": "Python 3",
   "language": "python",
   "name": "python3"
  }
 },
 "nbformat": 4,
 "nbformat_minor": 2
}
